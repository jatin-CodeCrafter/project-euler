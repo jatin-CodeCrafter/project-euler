	
cells	
0	
cell_type	"code"
execution_count	null
id	"68325059-0760-478d-8bc3-37d293c68974"
metadata	{}
outputs	[]
source	
0	"'''Largest prime factor of the number 600851475143 ?'''"
1	
cell_type	"code"
execution_count	1
id	"fb19395a-8cef-41aa-8841-1ebb5a4f964a"
metadata	{}
outputs	
0	
name	"stdout"
output_type	"stream"
text	
0	"6857\n"
source	
0	"number = 600851475143\n"
1	"factors=[]\n"
2	"n = number\n"
3	"while n % 2 == 0:\n"
4	"   n//=2\n"
5	"   factors.append(2)\n"
6	"for i in range(3,int(n**0.5)+1,2):\n"
7	"    while n%i==0:\n"
8	"        n//=i\n"
9	"        factors.append(i)\n"
10	"if n>2:\n"
11	"    factors.append(n)\n"
12	"print(max(factors))"
2	
cell_type	"code"
execution_count	null
id	"5229f8a3-4619-4531-a4b9-a37ca545ac47"
metadata	{}
outputs	[]
source	
0	"'''Find the largest palindrome made from the product of two 3-digit numbers?'''"
3	
cell_type	"code"
execution_count	2
id	"211a9795-e014-4f85-9d76-b253a9e271eb"
metadata	{}
outputs	
0	
name	"stdout"
output_type	"stream"
text	
0	"906609\n"
source	
0	"n=100\n"
1	"set1= []\n"
2	"while n<1000:\n"
3	"    for i in range(100,1000):\n"
4	"        f=n*i\n"
5	"        str1=str(f)\n"
6	"        if str1 == str1[::-1]:\n"
7	"            set1.append(f)    \n"
8	"    n+=1\n"
9	"print(max(set1))"
4	
cell_type	"code"
execution_count	null
id	"9bca506a-ef2d-4ec8-8b69-48dbf19d9cdb"
metadata	{}
outputs	[]
source	
0	"'''find the smallest number that evenly divides all the numbers from 1 to 20?''' "
5	
cell_type	"code"
execution_count	1
id	"83a93f7d-72fc-4a5b-8e9f-6d41bc1a96fb"
metadata	{}
outputs	
0	
name	"stdout"
output_type	"stream"
text	
0	"232792560\n"
source	
0	"import math\n"
1	"numbers = [1,2,4,5,6,7,8,9,10,11,12,13,14,15,16,17,18,19,20]\n"
2	"result = 1\n"
3	"for i in numbers:\n"
4	"    result = (i*result) // math.gcd(result,i)\n"
5	"print(result)"
6	
cell_type	"code"
execution_count	null
id	"fcdf2a5e-f9fa-45f1-ac4f-1059db4963ee"
metadata	{}
outputs	[]
source	
0	"''' To find the difference between the sum of squares of the first one hundred natural numbers and the square of the sum?'''"
7	
cell_type	"code"
execution_count	7
id	"c2fed0f0-e900-44f1-a323-930382284987"
metadata	{}
outputs	
0	
name	"stdout"
output_type	"stream"
text	
0	"-25164150\n"
source	
0	"set1 = []\n"
1	"sum_of_squares = []\n"
2	"for i in range(0,101):\n"
3	"    set1.append(i)\n"
4	"for i in set1:\n"
5	"    sq= i**2\n"
6	"    sum_of_squares.append(sq)\n"
7	"add = sum(set1)\n"
8	"print(sum(sum_of_squares)-(add**2))"
8	
cell_type	"code"
execution_count	null
id	"0b03ed32-97e8-4c1f-b37c-19a8c1fbe3f5"
metadata	{}
outputs	[]
source	[]
metadata	
kernelspec	
display_name	"Python 3 (ipykernel)"
language	"python"
name	"python3"
language_info	
codemirror_mode	
name	"ipython"
version	3
file_extension	".py"
mimetype	"text/x-python"
name	"python"
nbconvert_exporter	"python"
pygments_lexer	"ipython3"
version	"3.12.3"
nbformat	4
nbformat_minor	5
