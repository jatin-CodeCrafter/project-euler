{
 "cells": [
  {
   "cell_type": "code",
   "execution_count": 1,
   "id": "68325059-0760-478d-8bc3-37d293c68974",
   "metadata": {},
   "outputs": [
    {
     "data": {
      "text/plain": [
       "'Largest prime factor of the number 600851475143 ?'"
      ]
     },
     "execution_count": 1,
     "metadata": {},
     "output_type": "execute_result"
    }
   ],
   "source": [
    "'''Largest prime factor of the number 600851475143 ?'''"
   ]
  },
  {
   "cell_type": "code",
   "execution_count": 2,
   "id": "fb19395a-8cef-41aa-8841-1ebb5a4f964a",
   "metadata": {},
   "outputs": [
    {
     "name": "stdout",
     "output_type": "stream",
     "text": [
      "6857\n"
     ]
    }
   ],
   "source": [
    "number = 600851475143\n",
    "factors=[]\n",
    "n = number\n",
    "while n % 2 == 0:\n",
    "   n//=2\n",
    "   factors.append(2)\n",
    "for i in range(3,int(n**0.5)+1,2):\n",
    "    while n%i==0:\n",
    "        n//=i\n",
    "        factors.append(i)\n",
    "if n>2:\n",
    "    factors.append(n)\n",
    "print(max(factors))"
   ]
  },
  {
   "cell_type": "code",
   "execution_count": 3,
   "id": "5229f8a3-4619-4531-a4b9-a37ca545ac47",
   "metadata": {},
   "outputs": [
    {
     "data": {
      "text/plain": [
       "'Find the largest palindrome made from the product of two 3-digit numbers?'"
      ]
     },
     "execution_count": 3,
     "metadata": {},
     "output_type": "execute_result"
    }
   ],
   "source": [
    "'''Find the largest palindrome made from the product of two 3-digit numbers?'''"
   ]
  },
  {
   "cell_type": "code",
   "execution_count": 4,
   "id": "211a9795-e014-4f85-9d76-b253a9e271eb",
   "metadata": {},
   "outputs": [
    {
     "name": "stdout",
     "output_type": "stream",
     "text": [
      "906609\n"
     ]
    }
   ],
   "source": [
    "n=100\n",
    "set1= []\n",
    "while n<1000:\n",
    "    for i in range(100,1000):\n",
    "        f=n*i\n",
    "        str1=str(f)\n",
    "        if str1 == str1[::-1]:\n",
    "            set1.append(f)    \n",
    "    n+=1\n",
    "print(max(set1))"
   ]
  },
  {
   "cell_type": "code",
   "execution_count": 5,
   "id": "9bca506a-ef2d-4ec8-8b69-48dbf19d9cdb",
   "metadata": {},
   "outputs": [
    {
     "data": {
      "text/plain": [
       "'find the smallest number that evenly divides all the numbers from 1 to 20?'"
      ]
     },
     "execution_count": 5,
     "metadata": {},
     "output_type": "execute_result"
    }
   ],
   "source": [
    "'''find the smallest number that evenly divides all the numbers from 1 to 20?''' "
   ]
  },
  {
   "cell_type": "code",
   "execution_count": 6,
   "id": "83a93f7d-72fc-4a5b-8e9f-6d41bc1a96fb",
   "metadata": {},
   "outputs": [
    {
     "name": "stdout",
     "output_type": "stream",
     "text": [
      "232792560\n"
     ]
    }
   ],
   "source": [
    "import math\n",
    "numbers = [1,2,4,5,6,7,8,9,10,11,12,13,14,15,16,17,18,19,20]\n",
    "result = 1\n",
    "for i in numbers:\n",
    "    result = (i*result) // math.gcd(result,i)\n",
    "print(result)"
   ]
  },
  {
   "cell_type": "code",
   "execution_count": 7,
   "id": "fcdf2a5e-f9fa-45f1-ac4f-1059db4963ee",
   "metadata": {},
   "outputs": [
    {
     "data": {
      "text/plain": [
       "' To find the difference between the sum of squares of the first one hundred natural numbers and the square of the sum?'"
      ]
     },
     "execution_count": 7,
     "metadata": {},
     "output_type": "execute_result"
    }
   ],
   "source": [
    "''' To find the difference between the sum of squares of the first one hundred natural numbers and the square of the sum?'''"
   ]
  },
  {
   "cell_type": "code",
   "execution_count": 8,
   "id": "c2fed0f0-e900-44f1-a323-930382284987",
   "metadata": {},
   "outputs": [
    {
     "name": "stdout",
     "output_type": "stream",
     "text": [
      "-25164150\n"
     ]
    }
   ],
   "source": [
    "set1 = []\n",
    "sum_of_squares = []\n",
    "for i in range(0,101):\n",
    "    set1.append(i)\n",
    "for i in set1:\n",
    "    sq= i**2\n",
    "    sum_of_squares.append(sq)\n",
    "add = sum(set1)\n",
    "print(sum(sum_of_squares)-(add**2))"
   ]
  },
  {
   "cell_type": "code",
   "execution_count": null,
   "id": "0b03ed32-97e8-4c1f-b37c-19a8c1fbe3f5",
   "metadata": {},
   "outputs": [],
   "source": [
    "'''what is the 10001st prime number?'''"
   ]
  },
  {
   "cell_type": "code",
   "execution_count": 20,
   "id": "1003bb9a-f450-4db8-b566-c2e443e9cb31",
   "metadata": {},
   "outputs": [
    {
     "name": "stdout",
     "output_type": "stream",
     "text": [
      "104743\n"
     ]
    }
   ],
   "source": [
    "def is_prime(a):\n",
    "    for i in range(2,int(a**0.5)+1):\n",
    "        if a % i ==0:\n",
    "            return False\n",
    "    return True\n",
    "prime =[2]\n",
    "n=3\n",
    "while len(prime)<=10001:\n",
    "    if is_prime(n):\n",
    "        prime.append(n)\n",
    "    n+=2\n",
    "print(prime[10000])"
   ]
  },
  {
   "cell_type": "markdown",
   "id": "74637d12-a7b5-48fc-b16d-8996bcdbdde2",
   "metadata": {},
   "source": [
    "![problem 8](attachment:43657e4b-648e-45c5-92df-095133eabcf7.png)"
   ]
  },
  {
   "cell_type": "code",
   "execution_count": 2,
   "id": "4ac8fabc-23ee-4b91-8f08-5ef304c0b311",
   "metadata": {},
   "outputs": [
    {
     "name": "stdout",
     "output_type": "stream",
     "text": [
      "23514624000\n"
     ]
    }
   ],
   "source": [
    "string1 = \"\"\"\n",
    "73167176531330624919225119674426574742355349194934\n",
    "96983520312774506326239578318016984801869478851843\n",
    "85861560789112949495459501737958331952853208805511\n",
    "12540698747158523863050715693290963295227443043557\n",
    "66896648950445244523161731856403098711121722383113\n",
    "62229893423380308135336276614282806444486645238749\n",
    "30358907296290491560440772390713810515859307960866\n",
    "70172427121883998797908792274921901699720888093776\n",
    "65727333001053367881220235421809751254540594752243\n",
    "52584907711670556013604839586446706324415722155397\n",
    "53697817977846174064955149290862569321978468622482\n",
    "83972241375657056057490261407972968652414535100474\n",
    "82166370484403199890008895243450658541227588666881\n",
    "16427171479924442928230863465674813919123162824586\n",
    "17866458359124566529476545682848912883142607690042\n",
    "24219022671055626321111109370544217506941658960408\n",
    "07198403850962455444362981230987879927244284909188\n",
    "84580156166097919133875499200524063689912560717606\n",
    "05886116467109405077541002256983155200055935729725\n",
    "71636269561882670428252483600823257530420752963450\n",
    "\"\"\"\n",
    "\n",
    "string1 = string1.replace(\" \", \"\").replace(\"\\n\", \"\").strip()\n",
    "\n",
    "def largest_product(string):\n",
    "    max_product = 0\n",
    "    for i in range(len(string) - 13):  \n",
    "        product = 1\n",
    "        for j in range(13):  \n",
    "            product *= int(string[i + j])\n",
    "        max_product = max(max_product, product)  \n",
    "    return max_product\n",
    "\n",
    "print(largest_product(string1))\n"
   ]
  },
  {
   "cell_type": "code",
   "execution_count": null,
   "id": "0127f8c9-74ba-40fb-b430-9fe018c45043",
   "metadata": {},
   "outputs": [],
   "source": []
  }
 ],
 "metadata": {
  "kernelspec": {
   "display_name": "Python 3 (ipykernel)",
   "language": "python",
   "name": "python3"
  },
  "language_info": {
   "codemirror_mode": {
    "name": "ipython",
    "version": 3
   },
   "file_extension": ".py",
   "mimetype": "text/x-python",
   "name": "python",
   "nbconvert_exporter": "python",
   "pygments_lexer": "ipython3",
   "version": "3.12.3"
  }
 },
 "nbformat": 4,
 "nbformat_minor": 5
}
