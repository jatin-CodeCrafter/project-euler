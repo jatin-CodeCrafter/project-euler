{
 "cells": [
  {
   "cell_type": "code",
   "execution_count": null,
   "id": "68325059-0760-478d-8bc3-37d293c68974",
   "metadata": {},
   "outputs": [],
   "source": [
    "'''Largest prime factor of the number 600851475143 ?'''"
   ]
  },
  {
   "cell_type": "code",
   "execution_count": 1,
   "id": "fb19395a-8cef-41aa-8841-1ebb5a4f964a",
   "metadata": {},
   "outputs": [
    {
     "name": "stdout",
     "output_type": "stream",
     "text": [
      "6857\n"
     ]
    }
   ],
   "source": [
    "number = 600851475143\n",
    "factors=[]\n",
    "n = number\n",
    "while n % 2 == 0:\n",
    "   n//=2\n",
    "   factors.append(2)\n",
    "for i in range(3,int(n**0.5)+1,2):\n",
    "    while n%i==0:\n",
    "        n//=i\n",
    "        factors.append(i)\n",
    "if n>2:\n",
    "    factors.append(n)\n",
    "print(max(factors))"
   ]
  },
  {
   "cell_type": "code",
   "execution_count": null,
   "id": "5229f8a3-4619-4531-a4b9-a37ca545ac47",
   "metadata": {},
   "outputs": [],
   "source": [
    "'''Find the largest palindrome made from the product of two 3-digit numbers?'''"
   ]
  },
  {
   "cell_type": "code",
   "execution_count": 2,
   "id": "211a9795-e014-4f85-9d76-b253a9e271eb",
   "metadata": {},
   "outputs": [
    {
     "name": "stdout",
     "output_type": "stream",
     "text": [
      "906609\n"
     ]
    }
   ],
   "source": [
    "n=100\n",
    "set1= []\n",
    "while n<1000:\n",
    "    for i in range(100,1000):\n",
    "        f=n*i\n",
    "        str1=str(f)\n",
    "        if str1 == str1[::-1]:\n",
    "            set1.append(f)    \n",
    "    n+=1\n",
    "print(max(set1))"
   ]
  },
  {
   "cell_type": "code",
   "execution_count": null,
   "id": "6663c914-871f-454e-ad16-f39b5cb7616a",
   "metadata": {},
   "outputs": [],
   "source": []
  }
 ],
 "metadata": {
  "kernelspec": {
   "display_name": "Python 3 (ipykernel)",
   "language": "python",
   "name": "python3"
  },
  "language_info": {
   "codemirror_mode": {
    "name": "ipython",
    "version": 3
   },
   "file_extension": ".py",
   "mimetype": "text/x-python",
   "name": "python",
   "nbconvert_exporter": "python",
   "pygments_lexer": "ipython3",
   "version": "3.12.3"
  }
 },
 "nbformat": 4,
 "nbformat_minor": 5
}
