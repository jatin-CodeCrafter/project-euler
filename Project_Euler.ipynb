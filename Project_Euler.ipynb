{
 "cells": [
  {
   "cell_type": "code",
   "execution_count": null,
   "id": "68325059-0760-478d-8bc3-37d293c68974",
   "metadata": {},
   "outputs": [],
   "source": [
    "'''Largest prime factor of the number 600851475143 ?'''"
   ]
  },
  {
   "cell_type": "code",
   "execution_count": 1,
   "id": "fb19395a-8cef-41aa-8841-1ebb5a4f964a",
   "metadata": {},
   "outputs": [
    {
     "name": "stdout",
     "output_type": "stream",
     "text": [
      "6857\n"
     ]
    }
   ],
   "source": [
    "number = 600851475143\n",
    "factors=[]\n",
    "n = number\n",
    "while n % 2 == 0:\n",
    "   n//=2\n",
    "   factors.append(2)\n",
    "for i in range(3,int(n**0.5)+1,2):\n",
    "    while n%i==0:\n",
    "        n//=i\n",
    "        factors.append(i)\n",
    "if n>2:\n",
    "    factors.append(n)\n",
    "print(max(factors))"
   ]
  },
  {
   "cell_type": "code",
   "execution_count": null,
   "id": "5229f8a3-4619-4531-a4b9-a37ca545ac47",
   "metadata": {},
   "outputs": [],
   "source": [
    "'''Find the largest palindrome made from the product of two 3-digit numbers?'''"
   ]
  },
  {
   "cell_type": "code",
   "execution_count": 2,
   "id": "211a9795-e014-4f85-9d76-b253a9e271eb",
   "metadata": {},
   "outputs": [
    {
     "name": "stdout",
     "output_type": "stream",
     "text": [
      "906609\n"
     ]
    }
   ],
   "source": [
    "n=100\n",
    "set1= []\n",
    "while n<1000:\n",
    "    for i in range(100,1000):\n",
    "        f=n*i\n",
    "        str1=str(f)\n",
    "        if str1 == str1[::-1]:\n",
    "            set1.append(f)    \n",
    "    n+=1\n",
    "print(max(set1))"
   ]
  },
  {
   "cell_type": "code",
   "execution_count": null,
   "id": "9bca506a-ef2d-4ec8-8b69-48dbf19d9cdb",
   "metadata": {},
   "outputs": [],
   "source": [
    "'''find the smallest number that evenly divides all the numbers from 1 to 20?''' "
   ]
  },
  {
   "cell_type": "code",
   "execution_count": 1,
   "id": "83a93f7d-72fc-4a5b-8e9f-6d41bc1a96fb",
   "metadata": {},
   "outputs": [
    {
     "name": "stdout",
     "output_type": "stream",
     "text": [
      "232792560\n"
     ]
    }
   ],
   "source": [
    "import math\n",
    "numbers = [1,2,4,5,6,7,8,9,10,11,12,13,14,15,16,17,18,19,20]\n",
    "result = 1\n",
    "for i in numbers:\n",
    "    result = (i*result) // math.gcd(result,i)\n",
    "print(result)"
   ]
  },
  {
   "cell_type": "code",
   "execution_count": null,
   "id": "fcdf2a5e-f9fa-45f1-ac4f-1059db4963ee",
   "metadata": {},
   "outputs": [],
   "source": [
    "''' To find the difference between the sum of squares of the first one hundred natural numbers and the square of the sum?'''"
   ]
  },
  {
   "cell_type": "code",
   "execution_count": 7,
   "id": "c2fed0f0-e900-44f1-a323-930382284987",
   "metadata": {},
   "outputs": [
    {
     "name": "stdout",
     "output_type": "stream",
     "text": [
      "-25164150\n"
     ]
    }
   ],
   "source": [
    "set1 = []\n",
    "sum_of_squares = []\n",
    "for i in range(0,101):\n",
    "    set1.append(i)\n",
    "for i in set1:\n",
    "    sq= i**2\n",
    "    sum_of_squares.append(sq)\n",
    "add = sum(set1)\n",
    "print(sum(sum_of_squares)-(add**2))"
   ]
  },
  {
   "cell_type": "code",
   "execution_count": null,
   "id": "0b03ed32-97e8-4c1f-b37c-19a8c1fbe3f5",
   "metadata": {},
   "outputs": [],
   "source": []
  }
 ],
 "metadata": {
  "kernelspec": {
   "display_name": "Python 3 (ipykernel)",
   "language": "python",
   "name": "python3"
  },
  "language_info": {
   "codemirror_mode": {
    "name": "ipython",
    "version": 3
   },
   "file_extension": ".py",
   "mimetype": "text/x-python",
   "name": "python",
   "nbconvert_exporter": "python",
   "pygments_lexer": "ipython3",
   "version": "3.12.3"
  }
 },
 "nbformat": 4,
 "nbformat_minor": 5
}
